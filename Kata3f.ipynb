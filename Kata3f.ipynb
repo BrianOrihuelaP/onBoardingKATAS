{
 "cells": [
  {
   "cell_type": "markdown",
   "metadata": {},
   "source": [
    "1.- Para este ejercicio, escribirás una lógica condicional que imprima una advertencia si un asteroide se acerca a la Tierra demasiado rápido. La velocidad del asteroide varía dependiendo de lo cerca que esté del sol, y cualquier velocidad superior a 25 kilómetros por segundo (km/s) merece una advertencia."
   ]
  },
  {
   "cell_type": "markdown",
   "metadata": {},
   "source": [
    "Un asteroide se acerca, y viaja a una velocidad de 49 km/s."
   ]
  },
  {
   "cell_type": "code",
   "execution_count": 1,
   "metadata": {},
   "outputs": [
    {
     "name": "stdout",
     "output_type": "stream",
     "text": [
      "WARNING!!! Asteroide aproximandose\n"
     ]
    }
   ],
   "source": [
    "asteroide = 49\n",
    "if asteroide >=25:\n",
    "    print(\"WARNING!!! Asteroide aproximandose\")\n",
    "else:\n",
    "    print(\"El asteroide no es muy peligroso\")"
   ]
  },
  {
   "cell_type": "markdown",
   "metadata": {},
   "source": [
    "2.- Si un asteroide entra en la atmósfera de la Tierra a una velocidad mayor o igual a 20 km/s, a veces produce un rayo de luz que se puede ver desde la Tierra. Escribe la lógica condicional que usa declaraciones if, else, y elif para alertar a las personas de todo el mundo que deben buscar un asteroide en el cielo. ¡Hay uno que se dirige a la tierra ahora a una velocidad de 19 km/s!"
   ]
  },
  {
   "cell_type": "code",
   "execution_count": 17,
   "metadata": {},
   "outputs": [
    {
     "name": "stdout",
     "output_type": "stream",
     "text": [
      "NO hay asteroide\n"
     ]
    }
   ],
   "source": [
    "asteroide = 0\n",
    "if asteroide <= 19 and asteroide >=1:\n",
    "    if asteroide == 19:\n",
    "        print(\"El asteroide es poco visile\")\n",
    "    elif asteroide >=1:\n",
    "        print(\"El asteroide casi no es visible\")\n",
    "elif asteroide >=20:\n",
    "    if asteroide == 20:\n",
    "        print(\"El asteroide es visible\")\n",
    "    else: \n",
    "        print(\"El asteroide es muy visible\")\n",
    "else:\n",
    "        print(\"NO hay asteroide\")"
   ]
  },
  {
   "cell_type": "markdown",
   "metadata": {},
   "source": [
    "Ejercicio: Uso de operadores and y or"
   ]
  },
  {
   "cell_type": "markdown",
   "metadata": {},
   "source": [
    "Los asteroides de menos de 25 metros en su dimensión más grande probablemente se quemarán a medida que entren en la atmósfera de la Tierra.\n",
    "\n",
    "Si una pieza de un asteroide que es más grande que 25 metros pero más pequeña que 1000 metros golpeara la Tierra, causaría mucho daño.\n",
    "También discutimos en el ejercicio anterior que:\n",
    "\n",
    "La velocidad del asteroide varía en función de lo cerca que esté del sol, y cualquier velocidad superior a 25 kilómetros por segundo (km/s) merece una advertencia.\n",
    "Si un asteroide entra en la atmósfera de la Tierra a una velocidad mayor o igual a 20 km/s, a veces produce un rayo de luz que se puede ver desde la Tierra.\n",
    "Usando toda esta información, escribe un programa que emita la advertencia o información correcta a la gente de la Tierra, según la velocidad y el tamaño de un asteroide. Utiliza instrucciones if, else, y elif, así como los operadores and y or."
   ]
  },
  {
   "cell_type": "code",
   "execution_count": 21,
   "metadata": {},
   "outputs": [
    {
     "name": "stdout",
     "output_type": "stream",
     "text": [
      "ALERTAAA!!!, Se acerca un asteroide muy peligroso\n"
     ]
    }
   ],
   "source": [
    "# Agrega el código para crear nuevas variables para la velocidad y el tamaño del asteroide\n",
    "# Para probar el código, prueba con varias velocidades y tamaños\n",
    "# Escribe varias expresiones de prueba o combinaciones de expresiones de prueba para determinar qué mensaje se debe enviar a Tierra.\n",
    "velocidadAsteroide = 30\n",
    "tamañoAsteroide = 40\n",
    "if velocidadAsteroide > 25 and tamañoAsteroide >25:\n",
    "    print(\"ALERTAAA!!!, Se acerca un asteroide muy peligroso\")\n",
    "elif velocidadAsteroide >=20:\n",
    "    print(\"Hay un asteroide visible\")\n",
    "elif tamañoAsteroide < 25:\n",
    "    print(\"Existe un asteroide pero no es peligroso\")\n",
    "else: \n",
    "    print(\"EVERYTHING OK...\")"
   ]
  }
 ],
 "metadata": {
  "interpreter": {
   "hash": "669f5abd92f1a410df15b0643b9f42360e277a412fc08ae8bc7d7911cf7e8f3d"
  },
  "kernelspec": {
   "display_name": "Python 3.10.2 64-bit",
   "language": "python",
   "name": "python3"
  },
  "language_info": {
   "codemirror_mode": {
    "name": "ipython",
    "version": 3
   },
   "file_extension": ".py",
   "mimetype": "text/x-python",
   "name": "python",
   "nbconvert_exporter": "python",
   "pygments_lexer": "ipython3",
   "version": "3.10.2"
  },
  "orig_nbformat": 4
 },
 "nbformat": 4,
 "nbformat_minor": 2
}
