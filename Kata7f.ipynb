{
 "cells": [
  {
   "cell_type": "markdown",
   "metadata": {},
   "source": [
    "EJERCICIOS"
   ]
  },
  {
   "cell_type": "code",
   "execution_count": 2,
   "metadata": {},
   "outputs": [
    {
     "name": "stdout",
     "output_type": "stream",
     "text": [
      "['Venus', 'Mars', 'Jupiter']\n",
      "Venus\n",
      "Mars\n",
      "Jupiter\n"
     ]
    }
   ],
   "source": [
    "#EJERCICIO  1\n",
    "planetAdd = ''\n",
    "planets = []\n",
    "while planetAdd.lower() != 'done':\n",
    "    if planetAdd:\n",
    "        planets.append(planetAdd)\n",
    "    planetAdd = input('Enter a new planet ')\n",
    "\n",
    "print(planets)\n",
    "\n",
    "#EJERCICIO 2\n",
    "from time import sleep\n",
    "for planet in planets:\n",
    "    #Muestra el número\n",
    "    print(planet)\n",
    "\n",
    "    # Espera (1segundo)\n",
    "    sleep(1)"
   ]
  }
 ],
 "metadata": {
  "interpreter": {
   "hash": "669f5abd92f1a410df15b0643b9f42360e277a412fc08ae8bc7d7911cf7e8f3d"
  },
  "kernelspec": {
   "display_name": "Python 3.10.2 64-bit",
   "language": "python",
   "name": "python3"
  },
  "language_info": {
   "codemirror_mode": {
    "name": "ipython",
    "version": 3
   },
   "file_extension": ".py",
   "mimetype": "text/x-python",
   "name": "python",
   "nbconvert_exporter": "python",
   "pygments_lexer": "ipython3",
   "version": "3.10.2"
  },
  "orig_nbformat": 4
 },
 "nbformat": 4,
 "nbformat_minor": 2
}
