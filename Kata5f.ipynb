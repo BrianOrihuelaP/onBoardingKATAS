{
 "cells": [
  {
   "cell_type": "markdown",
   "metadata": {},
   "source": [
    "DISTANCIA ENTRE PLANETAS"
   ]
  },
  {
   "cell_type": "code",
   "execution_count": 5,
   "metadata": {},
   "outputs": [
    {
     "name": "stdout",
     "output_type": "stream",
     "text": [
      "628949330 KM\n",
      "390577533.93 M\n"
     ]
    }
   ],
   "source": [
    "tierra = 149597870\n",
    "jupiter = 778547200\n",
    "distancia = jupiter - tierra\n",
    "print(str(distancia) + \" KM\")\n",
    "distMillas = distancia * 0.621\n",
    "print(str(distMillas) + \" M\")"
   ]
  },
  {
   "cell_type": "markdown",
   "metadata": {},
   "source": [
    "CADENAS A NUMEROS Y ABSOLUTOS"
   ]
  },
  {
   "cell_type": "code",
   "execution_count": 14,
   "metadata": {},
   "outputs": [
    {
     "name": "stdout",
     "output_type": "stream",
     "text": [
      "CALCULO DE LAS DISTANCIAS ENTRE DOS PLANETAS\n",
      "Dsitancia entre planeta 1 y 2: 3716500000 KM\n",
      "Dsitancia : 2307946500.0 Millas\n"
     ]
    }
   ],
   "source": [
    "print(\"CALCULO DE LAS DISTANCIAS ENTRE DOS PLANETAS\")\n",
    "planeta1 = input(\"Ingresa la distancia del planeta 1\")\n",
    "planeta2 = input(\"Ingresa la distancia del planeta 2\")\n",
    "planeta1 = int(planeta1)\n",
    "planeta2 = int(planeta2)\n",
    "distancia = planeta1 - planeta2\n",
    "distanciaAbsoluta = abs(distancia)\n",
    "print(\"Dsitancia entre planeta 1 y 2: \" + str(distanciaAbsoluta) + \" KM\")\n",
    "distanciaM = distanciaAbsoluta * 0.621\n",
    "print(\"Dsitancia : \" + str(distanciaM) + \" Millas\")\n"
   ]
  }
 ],
 "metadata": {
  "interpreter": {
   "hash": "669f5abd92f1a410df15b0643b9f42360e277a412fc08ae8bc7d7911cf7e8f3d"
  },
  "kernelspec": {
   "display_name": "Python 3.10.2 64-bit",
   "language": "python",
   "name": "python3"
  },
  "language_info": {
   "codemirror_mode": {
    "name": "ipython",
    "version": 3
   },
   "file_extension": ".py",
   "mimetype": "text/x-python",
   "name": "python",
   "nbconvert_exporter": "python",
   "pygments_lexer": "ipython3",
   "version": "3.10.2"
  },
  "orig_nbformat": 4
 },
 "nbformat": 4,
 "nbformat_minor": 2
}
