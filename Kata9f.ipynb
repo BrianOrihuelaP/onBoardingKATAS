{
 "cells": [
  {
   "cell_type": "code",
   "execution_count": 11,
   "metadata": {},
   "outputs": [
    {
     "name": "stdout",
     "output_type": "stream",
     "text": [
      "Fuel Report:\n",
      "    Total Average: 38.333333333333336%\n",
      "    Main tank: 30%\n",
      "    External tank: 70%\n",
      "    Hydrogen tank: 15% \n",
      "    \n",
      "Fuel Report:\n",
      "    Total Average: 38.333333333333336%\n",
      "    Main tank: 30%\n",
      "    External tank: 70%\n",
      "    Hydrogen tank: 15% \n",
      "    \n"
     ]
    }
   ],
   "source": [
    "def generate_report(tanque1, tanque2, tanque3):\n",
    "    total_average = (tanque1 + tanque2 + tanque3) / 3\n",
    "    return f\"\"\"Fuel Report:\n",
    "    Total Average: {total_average}%\n",
    "    Main tank: {tanque1}%\n",
    "    External tank: {tanque2}%\n",
    "    Hydrogen tank: {tanque3}% \n",
    "    \"\"\"\n",
    "print(generate_report(30, 70, 15))\n",
    "\n",
    "def average(*values):\n",
    "    total = sum(values)\n",
    "    number_of_items = len(values)\n",
    "    return total / number_of_items\n",
    "\n",
    "# Test the averaging function with a list of integers:\n",
    "average(30, 70, 15) \n",
    "\n",
    "def generate_report2(tanque1, tanque2, tanque3):\n",
    "    return f\"\"\"Fuel Report:\n",
    "    Total Average: {average(tanque1, tanque2, tanque3)}%\n",
    "    Main tank: {tanque1}%\n",
    "    External tank: {tanque2}%\n",
    "    Hydrogen tank: {tanque3}% \n",
    "    \"\"\"\n",
    "print(generate_report2(30, 70, 15))"
   ]
  },
  {
   "cell_type": "markdown",
   "metadata": {},
   "source": [
    "EJERCICIO 2"
   ]
  },
  {
   "cell_type": "code",
   "execution_count": 18,
   "metadata": {},
   "outputs": [
    {
     "name": "stdout",
     "output_type": "stream",
     "text": [
      "\n",
      "    Mission to Moon\n",
      "    Total travel time: 65 minutes\n",
      "    Total fuel left: 500000 gallons\n",
      "    \n",
      "\n",
      "    Mission to Venus\n",
      "    Total travel time: 45 minutes\n",
      "    Total fuel left: 500000 glls\n",
      "    \n",
      "\n",
      "\n",
      "    Mission to Jupiter\n",
      "    Total travel time: 266 minutes\n",
      "    Total fuel left: 500000 glls\n",
      "    tanque1 tanque --> 300000 combustible\n",
      "tanque2 tanque --> 200000 combustible\n",
      "\n"
     ]
    }
   ],
   "source": [
    "# Función con un informe preciso de la misión. Considera hora de prelanzamiento, tiempo de vuelo, destino, tanque externo y tanque interno\n",
    "\n",
    "def mission_report(tiempoLanzamiento, tiempoVuelo, destino, tanque1, tanque2):\n",
    "    return f\"\"\"\n",
    "    Mission to {destino}\n",
    "    Total travel time: {tiempoLanzamiento + tiempoVuelo} minutes\n",
    "    Total fuel left: {tanque1 + tanque2} gallons\n",
    "    \"\"\"\n",
    "\n",
    "print(mission_report(14, 51, \"Moon\", 200000, 300000))\n",
    "\n",
    "# Escribe tu nueva función de reporte considerando lo anterior\n",
    "def mission_report(destino, *minutos, **tanques):\n",
    "    return f\"\"\"\n",
    "    Mission to {destino}\n",
    "    Total travel time: {sum(minutos)} minutes\n",
    "    Total fuel left: {sum(tanques.values())} glls\n",
    "    \"\"\"\n",
    "\n",
    "print(mission_report(\"Venus\", 30, 15, tanque1=300000, tanque2=200000))\n",
    "print()\n",
    "# Escribe tu nueva función\n",
    "def mission_report2(destino, *minutos, **tanques):\n",
    "    reporte =  f\"\"\"\n",
    "    Mission to {destino}\n",
    "    Total travel time: {sum(minutos)} minutes\n",
    "    Total fuel left: {sum(tanques.values())} glls\n",
    "    \"\"\"    \n",
    "    for tanques, galones in tanques.items():\n",
    "            reporte += f\"{tanques} tanque --> {galones} combustible\\n\"\n",
    "    return reporte\n",
    "print(mission_report2(\"Jupiter\", 200, 11, 55, tanque1=300000, tanque2=200000))\n"
   ]
  }
 ],
 "metadata": {
  "interpreter": {
   "hash": "9a91bb8f2a62978427d73874c3161f4e6f27a5956b86c43afc8e682b9db88917"
  },
  "kernelspec": {
   "display_name": "Python 3.10.2 64-bit (windows store)",
   "language": "python",
   "name": "python3"
  },
  "language_info": {
   "codemirror_mode": {
    "name": "ipython",
    "version": 3
   },
   "file_extension": ".py",
   "mimetype": "text/x-python",
   "name": "python",
   "nbconvert_exporter": "python",
   "pygments_lexer": "ipython3",
   "version": "3.10.2"
  },
  "orig_nbformat": 4
 },
 "nbformat": 4,
 "nbformat_minor": 2
}
